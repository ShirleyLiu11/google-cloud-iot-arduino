{
  "nbformat": 4,
  "nbformat_minor": 0,
  "metadata": {
    "colab": {
      "name": "QinyiL_DuPontAnalysis.ipynb",
      "provenance": [],
      "collapsed_sections": [],
      "authorship_tag": "ABX9TyMkcBX6DGfn/L4dep2Msl5V",
      "include_colab_link": true
    },
    "kernelspec": {
      "name": "python3",
      "display_name": "Python 3"
    },
    "language_info": {
      "name": "python"
    }
  },
  "cells": [
    {
      "cell_type": "markdown",
      "metadata": {
        "id": "view-in-github",
        "colab_type": "text"
      },
      "source": [
        "<a href=\"https://colab.research.google.com/github/ShirleyLiu11/google-cloud-iot-arduino/blob/master/QinyiL_DuPontAnalysis.ipynb\" target=\"_parent\"><img src=\"https://colab.research.google.com/assets/colab-badge.svg\" alt=\"Open In Colab\"/></a>"
      ]
    },
    {
      "cell_type": "code",
      "execution_count": 31,
      "metadata": {
        "id": "lLMZnbu-hWxm"
      },
      "outputs": [],
      "source": [
        "import requests\n",
        "import pandas as pd\n",
        "import matplotlib.pyplot as plt\n",
        "from matplotlib.ticker import PercentFormatter\n",
        "\n",
        "myAPIKey='eb6dedb2d4408c741abd383aec7151e5'\n",
        "\n",
        "stock='TMUS'\n",
        "balanceStatements=requests.get(f\"https://financialmodelingprep.com/api/v3/balance-sheet-statement/{stock}?apikey={myAPIKey}\").json()\n",
        "incomeStatements=requests.get(f'https://financialmodelingprep.com/api/v3/income-statement/{stock}?apikey={myAPIKey}').json()"
      ]
    },
    {
      "cell_type": "code",
      "source": [
        "print (balanceStatements[4])"
      ],
      "metadata": {
        "colab": {
          "base_uri": "https://localhost:8080/"
        },
        "id": "zrstJRi2i_pN",
        "outputId": "6bd832e6-2e83-4f7d-dcc4-f2ffd4300af3"
      },
      "execution_count": 32,
      "outputs": [
        {
          "output_type": "stream",
          "name": "stdout",
          "text": [
            "{'date': '2017-12-31', 'symbol': 'TMUS', 'reportedCurrency': 'USD', 'cik': '0001283699', 'fillingDate': '2018-02-08', 'acceptedDate': '2018-02-08 06:15:41', 'calendarYear': '2017', 'period': 'FY', 'cashAndCashEquivalents': 1219000000, 'shortTermInvestments': 0.0, 'cashAndShortTermInvestments': 1219000000, 'netReceivables': 4227000000, 'inventory': 1566000000, 'otherCurrentAssets': 1903000000, 'totalCurrentAssets': 8915000000, 'propertyPlantEquipmentNet': 22196000000, 'goodwill': 1683000000, 'intangibleAssets': 35583000000, 'goodwillAndIntangibleAssets': 37266000000, 'longTermInvestments': 0.0, 'taxAssets': 0.0, 'otherNonCurrentAssets': 2186000000, 'totalNonCurrentAssets': 61648000000, 'otherAssets': 0.0, 'totalAssets': 70563000000, 'accountPayables': 6182000000, 'shortTermDebt': 1612000000, 'taxPayables': 620000000, 'deferredRevenue': 779000000, 'otherCurrentLiabilities': 2942000000, 'totalCurrentLiabilities': 11515000000, 'longTermDebt': 12121000000, 'deferredRevenueNonCurrent': 0.0, 'deferredTaxLiabilitiesNonCurrent': 3537000000, 'otherNonCurrentLiabilities': 20831000000, 'totalNonCurrentLiabilities': 36489000000, 'otherLiabilities': 0.0, 'capitalLeaseObligations': 0.0, 'totalLiabilities': 48004000000, 'preferredStock': 0.0, 'commonStock': 0.0, 'retainedEarnings': -16074000000, 'accumulatedOtherComprehensiveIncomeLoss': 8000000.0, 'othertotalStockholdersEquity': 38625000000, 'totalStockholdersEquity': 22559000000, 'totalLiabilitiesAndStockholdersEquity': 70563000000, 'minorityInterest': 0, 'totalEquity': 22559000000, 'totalLiabilitiesAndTotalEquity': 70563000000, 'totalInvestments': 0.0, 'totalDebt': 13733000000, 'netDebt': 12514000000, 'link': 'https://www.sec.gov/Archives/edgar/data/1283699/000128369918000011/0001283699-18-000011-index.html', 'finalLink': 'https://www.sec.gov/Archives/edgar/data/1283699/000128369918000011/tmus12312017form10-k.htm'}\n"
          ]
        }
      ]
    },
    {
      "cell_type": "code",
      "source": [
        "fourYearBalanceStatement=balanceStatements[:4]\n",
        "fourYearIncomeStatement=incomeStatements[:4]"
      ],
      "metadata": {
        "id": "Xme6Uek5jDge"
      },
      "execution_count": 46,
      "outputs": []
    },
    {
      "cell_type": "code",
      "source": [
        "profirability=[]\n",
        "assetTurnOver=[]\n",
        "capitalStructure=[]\n",
        "returnOnEquity=[]\n",
        "\n",
        "for i in range(0,4):\n",
        "  profirabilityValue=fourYearIncomeStatement[i]['netIncome']/fourYearIncomeStatement[i]['revenue']\n",
        "  profirability.append(profirabilityValue)\n",
        "  assetTurnOverValue=fourYearIncomeStatement[i]['revenue']/fourYearBalanceStatement[i]['totalAssets']\n",
        "  assetTurnOver.append(assetTurnOverValue)\n",
        "  capitalStructureValue=fourYearBalanceStatement[i]['totalAssets']/fourYearBalanceStatement[i]['totalStockholdersEquity']\n",
        "  capitalStructure.append(capitalStructureValue)\n",
        "  returnOnEquityValue=profirabilityValue*assetTurnOverValue*capitalStructureValue\n",
        "  returnOnEquity.append(returnOnEquityValue)"
      ],
      "metadata": {
        "id": "1WSZLYBMjpe4"
      },
      "execution_count": 47,
      "outputs": []
    },
    {
      "cell_type": "code",
      "source": [
        "print(returnOnEquity)"
      ],
      "metadata": {
        "colab": {
          "base_uri": "https://localhost:8080/"
        },
        "id": "3iJeL70ilaRH",
        "outputId": "8107d7a5-08fa-486b-f98a-ff89b3d7d623"
      },
      "execution_count": 48,
      "outputs": [
        {
          "output_type": "stream",
          "name": "stdout",
          "text": [
            "[0.04376139619692628, 0.046890303623898136, 0.12046267671680157, 0.11683793187151063]\n"
          ]
        }
      ]
    },
    {
      "cell_type": "code",
      "source": [
        "year=[2021,2020,2019,2018]\n",
        "plt.bar(year, returnOnEquity)\n",
        "plt.title('T-mobile Four Year ROE')\n",
        "plt.xlabel('Year')\n",
        "plt.ylabel('ROE')\n",
        "plt.show()\n"
      ],
      "metadata": {
        "colab": {
          "base_uri": "https://localhost:8080/",
          "height": 404
        },
        "id": "0DGsV2dd8EvO",
        "outputId": "50fa7c57-c4dc-4e01-b94d-1c8e92b3b3e5"
      },
      "execution_count": 49,
      "outputs": [
        {
          "output_type": "display_data",
          "data": {
            "image/png": "[encoded data removed]",
            "text/plain": [
              "<Figure size 576x432 with 1 Axes>"
            ]
          },
          "metadata": {
            "needs_background": "light"
          }
        }
      ]
    }
  ]
}