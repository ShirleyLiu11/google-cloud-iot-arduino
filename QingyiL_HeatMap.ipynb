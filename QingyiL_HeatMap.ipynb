{
  "nbformat": 4,
  "nbformat_minor": 0,
  "metadata": {
    "colab": {
      "name": "QingyiL-HeatMap.ipynb",
      "provenance": [],
      "authorship_tag": "ABX9TyPQzu+14aENWW1j5eqICItv",
      "include_colab_link": true
    },
    "kernelspec": {
      "name": "python3",
      "display_name": "Python 3"
    },
    "language_info": {
      "name": "python"
    }
  },
  "cells": [
    {
      "cell_type": "markdown",
      "metadata": {
        "id": "view-in-github",
        "colab_type": "text"
      },
      "source": [
        "<a href=\"https://colab.research.google.com/github/ShirleyLiu11/google-cloud-iot-arduino/blob/master/QingyiL_HeatMap.ipynb\" target=\"_parent\"><img src=\"https://colab.research.google.com/assets/colab-badge.svg\" alt=\"Open In Colab\"/></a>"
      ]
    },
    {
      "cell_type": "code",
      "execution_count": 10,
      "metadata": {
        "colab": {
          "base_uri": "https://localhost:8080/",
          "height": 491
        },
        "id": "wor0YtGzZyKf",
        "outputId": "1b226904-92bf-4bd5-c4a1-3587e331d816"
      },
      "outputs": [
        {
          "output_type": "stream",
          "name": "stdout",
          "text": [
            "likelihood  0.1  0.2  0.3  0.5\n",
            "impact                        \n",
            "1           NaN  0.2  NaN  NaN\n",
            "2           NaN  NaN  0.6  NaN\n",
            "7           0.7  NaN  NaN  NaN\n",
            "10          NaN  NaN  NaN  5.0\n",
            "likelihood     0.1    0.2   0.3       0.5\n",
            "impact                                   \n",
            "1              NaN  users   NaN       NaN\n",
            "2              NaN    NaN  team       NaN\n",
            "7           budget    NaN   NaN       NaN\n",
            "10             NaN    NaN   NaN  security\n"
          ]
        },
        {
          "output_type": "display_data",
          "data": {
            "image/png": "[encoded data removed]",
            "text/plain": [
              "<Figure size 432x288 with 2 Axes>"
            ]
          },
          "metadata": {
            "needs_background": "light"
          }
        }
      ],
      "source": [
        "# import a few libraries\n",
        "import seaborn as sns\n",
        "import pandas as pd\n",
        "import numpy as np\n",
        "#create a dataframe (data table)\n",
        "riskDF=pd.DataFrame(columns=['risk', 'likelihood', 'impact', 'score'])\n",
        "riskDF['risk']=['users', 'team', 'budget', 'security']\n",
        "riskDF['likelihood']=[0.2,0.3,0.1,0.5]\n",
        "riskDF['impact']=[1,2,7,10]\n",
        "riskDF['score']=riskDF['impact']*riskDF['likelihood']\n",
        "scorePivot=riskDF.pivot('impact','likelihood','score')\n",
        "print(scorePivot)\n",
        "labelsPivot=riskDF.pivot('impact','likelihood','risk')\n",
        "print(labelsPivot)\n",
        "\n",
        "#simple hearmap\n",
        "p1=sns.heatmap(scorePivot, cmap=\"cool\", annot= labelsPivot, fmt='')"
      ]
    }
  ]
}