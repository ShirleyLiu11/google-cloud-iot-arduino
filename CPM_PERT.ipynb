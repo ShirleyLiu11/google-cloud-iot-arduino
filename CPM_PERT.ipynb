{
  "nbformat": 4,
  "nbformat_minor": 0,
  "metadata": {
    "colab": {
      "name": "CPM-PERT.ipynb",
      "provenance": [],
      "collapsed_sections": [],
      "toc_visible": true,
      "mount_file_id": "13xxP1FLDU9_q6G3M-N3p2_eVIrBXN93U",
      "authorship_tag": "ABX9TyON+72JkLfne2Uo9DPrhXBn",
      "include_colab_link": true
    },
    "kernelspec": {
      "name": "python3",
      "display_name": "Python 3"
    },
    "language_info": {
      "name": "python"
    }
  },
  "cells": [
    {
      "cell_type": "markdown",
      "metadata": {
        "id": "view-in-github",
        "colab_type": "text"
      },
      "source": [
        "<a href=\"https://colab.research.google.com/github/ShirleyLiu11/google-cloud-iot-arduino/blob/master/CPM_PERT.ipynb\" target=\"_parent\"><img src=\"https://colab.research.google.com/assets/colab-badge.svg\" alt=\"Open In Colab\"/></a>"
      ]
    },
    {
      "cell_type": "code",
      "execution_count": null,
      "metadata": {
        "id": "fAv73Tjy6V3i",
        "colab": {
          "base_uri": "https://localhost:8080/",
          "height": 764
        },
        "outputId": "0dadfd91-8e4d-41da-cebc-a8486e86839f"
      },
      "outputs": [
        {
          "output_type": "stream",
          "name": "stdout",
          "text": [
            "   tasks     pred  ai   mi  bi\n",
            "0      A      NaN    3   6   9\n",
            "1      B      NaN    2   5   6\n",
            "2      C        B    2   3   7\n",
            "3      D      A,C    1   3   3\n",
            "4      E        D    0   7   8\n",
            "5      F        C    1   2  10\n",
            "6      G        F    3   4  12\n",
            "7      H        F    1   2  15\n",
            "8      I        B    5  10  30\n",
            "9      J  E, G, H    1   3   4\n",
            "10   EOP      I,J    0   0   0\n",
            "--------------------\n",
            "\n",
            "Critical Path: \n",
            "BI\n",
            "Critical Path Length: \n",
            "31.20475959777832\n"
          ]
        },
        {
          "output_type": "display_data",
          "data": {
            "text/plain": [
              "<Figure size 640x480 with 1 Axes>"
            ],
            "image/png": "[encoded data removed]"
          },
          "metadata": {}
        }
      ],
      "source": [
        "import pandas as pd\n",
        "import tensorflow_probability as tfp\n",
        "import matplotlib.pyplot as plt; plt.rcdefaults()\n",
        "import numpy as np\n",
        "import matplotlib.pyplot as plt\n",
        "\n",
        "PERTCPM=pd.read_csv(\"/content/drive/MyDrive/Colab Notebooks/PERT-CPM.csv\")\n",
        "print(PERTCPM)\n",
        "print('--------------------\\n')\n",
        "\n",
        "taskNames=PERTCPM['tasks']\n",
        "resultDataFrame=pd.DataFrame(columns=taskNames)\n",
        "\n",
        "paths=['ADEJ', 'BCDEJ', 'BCFGJ', 'BCFHJ', 'BI']\n",
        "countOfCriticalsOfEachPath = [0, 0, 0, 0, 0]\n",
        "\n",
        "tfd = tfp.distributions\n",
        "\n",
        "for index, task in PERTCPM.iterrows():\n",
        "  dist=tfd.PERT(low=task['ai '], peak=task['mi'], high=task['bi'], temperature=4)\n",
        "  resultDataFrame[task['tasks']]=dist.sample(1000)\n",
        "  \n",
        "\n",
        "overAllCriticalLength=0\n",
        "\n",
        "#loop each path based on 1000 simples\n",
        "for indexOfSimple, simple in resultDataFrame.iterrows():\n",
        "  \n",
        "  criticalLength=0\n",
        "  criticalIndex = -1  #the index of the critical path within paths\n",
        "\n",
        "  for indexOfPath in range(len(paths)):\n",
        "    path = paths[indexOfPath]\n",
        "    length = 0\n",
        "    \n",
        "\n",
        "    for indexOfTask in range(len(path)):\n",
        "      task = path[indexOfTask]\n",
        "      length += simple[task]\n",
        "    \n",
        "    if(length > criticalLength): \n",
        "      criticalLength = length\n",
        "      criticalIndex = indexOfPath\n",
        "\n",
        "    countOfCriticalsOfEachPath[criticalIndex] += 1\n",
        "\n",
        "  if(criticalLength > overAllCriticalLength): \n",
        "    overAllCriticalLength = criticalLength\n",
        "# declares the longest path as critical\n",
        "print(\"Critical Path: \")\n",
        "print(paths[criticalIndex])\n",
        "print(\"Critical Path Length: \")\n",
        "print(overAllCriticalLength)\n",
        "# path critical frequency\n",
        "allPathFrequency=[]\n",
        "for index in countOfCriticalsOfEachPath:\n",
        "  frequency=round((index/5000*100), 4)\n",
        "  allPathFrequency+=[frequency]\n",
        "\n",
        "\n",
        "# create chart\n",
        "objects = paths\n",
        "y_pos = np.arange(len(objects))\n",
        "performance = allPathFrequency\n",
        "\n",
        "plt.bar(y_pos, performance, align='center', alpha=0.5)\n",
        "plt.xticks(y_pos, objects)\n",
        "plt.ylabel('Frequency(%)')\n",
        "plt.title('Path Probabilities')\n",
        "\n",
        "plt.show()\n",
        "\n",
        "\n",
        "\n",
        "\n",
        "\n",
        "\n"
      ]
    },
    {
      "cell_type": "markdown",
      "source": [
        ""
      ],
      "metadata": {
        "id": "FwVimyAYpOUR"
      }
    },
    {
      "cell_type": "markdown",
      "source": [
        "# New Section"
      ],
      "metadata": {
        "id": "Y7ImyRlWoz5T"
      }
    }
  ]
}